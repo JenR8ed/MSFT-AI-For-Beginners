{
  "cells": [
    {
      "cell_type": "markdown",
      "metadata": {
        "id": "view-in-github",
        "colab_type": "text"
      },
      "source": [
        "<a href=\"https://colab.research.google.com/github/JenR8ed/MSFT-AI-For-Beginners/blob/main/lessons/2-Symbolic/MSConceptGraph.ipynb\" target=\"_parent\"><img src=\"https://colab.research.google.com/assets/colab-badge.svg\" alt=\"Open In Colab\"/></a>"
      ]
    },
    {
      "cell_type": "markdown",
      "metadata": {
        "collapsed": true,
        "id": "5VbzhLeKf3Pd"
      },
      "source": [
        "## Microsoft Concept Graph\n",
        "\n",
        "[Microsoft Concept Graph](https://concept.research.microsoft.com/) is a large taxonomy of terms mined from the internet, with `is-a` relations between concepts.\n",
        "\n",
        "Context Graph is available in two forms:\n",
        " * Large text file for download\n",
        " * REST API\n",
        "\n",
        "Statistics:\n",
        " * 5401933 unique concepts,\n",
        " * 12551613 unique instances\n",
        " * 87603947 `is-a` relations"
      ]
    },
    {
      "cell_type": "markdown",
      "metadata": {
        "id": "YteiOrsNf3Pi"
      },
      "source": [
        "## Using Web Service\n",
        "\n",
        "Web service offers different calls to estimate probability of a concept belonging to different groups. More info is available [here](https://concept.research.microsoft.com/Home/Api).\n",
        "Here is the sample URL to call: `https://concept.research.microsoft.com/api/Concept/ScoreByProb?instance=microsoft&topK=10`"
      ]
    },
    {
      "cell_type": "code",
      "execution_count": null,
      "metadata": {
        "trusted": true,
        "id": "Tu6DpnJ0f3Pj"
      },
      "outputs": [],
      "source": [
        "import urllib\n",
        "import json\n",
        "import ssl\n",
        "\n",
        "def http(x):\n",
        "    ssl._create_default_https_context = ssl._create_unverified_context\n",
        "    response = urllib.request.urlopen(x)\n",
        "    data = response.read()\n",
        "    return data.decode('utf-8')\n",
        "\n",
        "def query(x):\n",
        "    return json.loads(http(\"https://concept.research.microsoft.com/api/Concept/ScoreByProb?instance={}&topK=10\".format(urllib.parse.quote(x))))\n",
        "\n",
        "query('microsoft')"
      ]
    },
    {
      "cell_type": "markdown",
      "metadata": {
        "id": "H86-71aef3Pm"
      },
      "source": [
        "Let's try to categorize the news titles using parent concepts. To get news titles, we will use [NewsApi.org](http://newsapi.org) service. You need to obtain your own API key in order to use the service - go to the web site and register for free developer plan."
      ]
    },
    {
      "cell_type": "code",
      "execution_count": null,
      "metadata": {
        "trusted": true,
        "id": "gymOLJvPf3Pn"
      },
      "outputs": [],
      "source": [
        "newsapi_key = '<your API key here>'\n",
        "def get_news(country='us'):\n",
        "    res = json.loads(http(\"https://newsapi.org/v2/top-headlines?country={0}&apiKey={1}\".format(country,newsapi_key)))\n",
        "    return res['articles']\n",
        "\n",
        "all_titles = [x['title'] for x in get_news('us')+get_news('gb')]"
      ]
    },
    {
      "cell_type": "code",
      "execution_count": null,
      "metadata": {
        "id": "2fkIQfYPf3Po"
      },
      "outputs": [],
      "source": [
        "all_titles"
      ]
    },
    {
      "cell_type": "markdown",
      "metadata": {
        "id": "-dns0M5Xf3Pp"
      },
      "source": [
        "First of all, we want to be able to extract nouns from news titles. We will use `TextBlob` library to do this, which simplifies a lot of typical NLP tasks like this."
      ]
    },
    {
      "cell_type": "code",
      "execution_count": null,
      "metadata": {
        "trusted": true,
        "id": "XXIr1BlOf3Pq"
      },
      "outputs": [],
      "source": [
        "import sys\n",
        "!{sys.executable} -m pip install textblob\n",
        "!{sys.executable} -m textblob.download_corpora\n",
        "from textblob import TextBlob"
      ]
    },
    {
      "cell_type": "code",
      "execution_count": null,
      "metadata": {
        "trusted": true,
        "id": "rZnD8Fthf3Pr"
      },
      "outputs": [],
      "source": [
        "w = {}\n",
        "for x in all_titles:\n",
        "    for n in TextBlob(x).noun_phrases:\n",
        "        if n in w:\n",
        "            w[n].append(x)\n",
        "        else:\n",
        "            w[n]=[x]\n",
        "{ x:len(w[x]) for x in w.keys()}"
      ]
    },
    {
      "cell_type": "markdown",
      "metadata": {
        "id": "mvEh5oXkf3Ps"
      },
      "source": [
        "We can see that nouns do not give us large thematic groups. Let's substitute nouns by more general terms obtained from the concept graph. This will take some time, because we are doing REST call for each noun phrase."
      ]
    },
    {
      "cell_type": "code",
      "execution_count": null,
      "metadata": {
        "trusted": true,
        "id": "tUhoqZcjf3Pt"
      },
      "outputs": [],
      "source": [
        "w = {}\n",
        "for x in all_titles:\n",
        "    for noun in TextBlob(x).noun_phrases:\n",
        "        terms = query(noun.replace(' ','%20'))\n",
        "        for term in [u for u in terms.keys() if terms[u]>0.1]:\n",
        "            if term in w:\n",
        "                w[term].append(x)\n",
        "            else:\n",
        "                w[term]=[x]"
      ]
    },
    {
      "cell_type": "code",
      "execution_count": null,
      "metadata": {
        "trusted": true,
        "id": "fQ-w2biyf3Pt"
      },
      "outputs": [],
      "source": [
        "{ x:len(w[x]) for x in w.keys() if len(w[x])>3}"
      ]
    },
    {
      "cell_type": "code",
      "execution_count": null,
      "metadata": {
        "trusted": true,
        "id": "RB8WxgdCf3Pu"
      },
      "outputs": [],
      "source": [
        "print('\\nECONOMY:\\n'+'\\n'.join(w['economy']))\n",
        "print('\\nNATION:\\n'+'\\n'.join(w['nation']))\n",
        "print('\\nPERSON:\\n'+'\\n'.join(w['person']))"
      ]
    }
  ],
  "metadata": {
    "kernelspec": {
      "display_name": "Python 3.7.4 64-bit (conda)",
      "metadata": {
        "interpreter": {
          "hash": "86193a1ab0ba47eac1c69c1756090baa3b420b3eea7d4aafab8b85f8b312f0c5"
        }
      },
      "name": "python3"
    },
    "language_info": {
      "codemirror_mode": {
        "name": "ipython",
        "version": 3
      },
      "file_extension": ".py",
      "mimetype": "text/x-python",
      "name": "python",
      "nbconvert_exporter": "python",
      "pygments_lexer": "ipython3",
      "version": "3.9.5"
    },
    "colab": {
      "provenance": [],
      "include_colab_link": true
    }
  },
  "nbformat": 4,
  "nbformat_minor": 0
}